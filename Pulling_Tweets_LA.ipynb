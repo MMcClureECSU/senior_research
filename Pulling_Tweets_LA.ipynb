{
 "cells": [
  {
   "cell_type": "markdown",
   "metadata": {},
   "source": [
    "-Code imports libraries and allows access to twitter\n",
    "-Makes a query \n",
    "-gets results and stores them."
   ]
  },
  {
   "cell_type": "code",
   "execution_count": null,
   "metadata": {},
   "outputs": [],
   "source": [
    "import tweepy\n",
    "import credentials\n",
    "\n",
    "auth = tweepy.OAuthHandler(credentials.CONSUMER_KEY, credentials.CONSUMER_SECRET)\n",
    "auth.set_access_token(credentials.ACCESS_TOKEN, credentials.ACCESS_TOKEN_SECRET)\n",
    "\n",
    "# create an API for accessing twitter, which will wait for rate limits to reset when\n",
    "# reached and will notify the user if that is the case\n",
    "api = tweepy.API(auth, wait_on_rate_limit=True, wait_on_rate_limit_notify=True)"
   ]
  },
  {
   "cell_type": "code",
   "execution_count": null,
   "metadata": {},
   "outputs": [],
   "source": [
    "trendLA =  api.trends_closest(lat = 34.0522, long = -118.2437, lang = 'english') #gets trending data from LA based on coords\n",
    "#trendLA[0]"
   ]
  },
  {
   "cell_type": "code",
   "execution_count": null,
   "metadata": {},
   "outputs": [],
   "source": [
    "# print Trend name and volume\n",
    "def print_trend(t) :\n",
    "    num = t['tweet_volume']\n",
    "    if num is None :\n",
    "        num = '?'\n",
    "    if num != '?':\n",
    "        print(t['name'], 'has', num, 'tweets') #altered from 202 notes to filter out ''?''"
   ]
  },
  {
   "cell_type": "code",
   "execution_count": null,
   "metadata": {
    "scrolled": true
   },
   "outputs": [],
   "source": [
    "print('Trending topics for', trendLA[0]['name'], ':')\n",
    "print()\n",
    "trends_results = api.trends_place(id = trendLA[0]['woeid']) \n",
    "trends = trends_results[0]['trends']\n",
    "top = ['a',0] #list to hold values\n",
    "for t in trends:\n",
    "    if '#' in t['name']: #filters out non hastags (maybe)\n",
    "        num = t['tweet_volume']\n",
    "        if num is None:\n",
    "            num = '?'\n",
    "        if num != '?':\n",
    "            if num > top[1]: #finds max tweets per tag, assigns tip top trend \n",
    "                top[0] = t['name']\n",
    "                top[1] = t['tweet_volume']\n",
    "print('The top trend is: ' + str(top[0]) + ' with ' + str(top[1]) + ' tweets.')\n",
    "for t in trends:\n",
    "    print_trend(t)\n"
   ]
  },
  {
   "cell_type": "code",
   "execution_count": null,
   "metadata": {
    "scrolled": true
   },
   "outputs": [],
   "source": [
    "results = tweepy.Cursor(api.search,\n",
    "                          q=str(top[0]),\n",
    "                          geocode = '34.0522,-118.2437,15mi',\n",
    "                          lang = 'en',\n",
    "                          tweet_mode = 'extended',\n",
    "                          count = 100).items(3200) #query to get the tweet\n",
    "print(str(top[0]))"
   ]
  },
  {
   "cell_type": "code",
   "execution_count": null,
   "metadata": {},
   "outputs": [],
   "source": [
    "results = list(results)"
   ]
  },
  {
   "cell_type": "code",
   "execution_count": null,
   "metadata": {
    "scrolled": true
   },
   "outputs": [],
   "source": [
    "# output results\n",
    "for r in results :\n",
    "    if(r.user.location != ''):\n",
    "        print(\"====================================================\")\n",
    "        print(r.user.screen_name, ': ', r.full_text, sep = '')\n",
    "        #print(r.full_text, sep='')\n",
    "        \n",
    "        #if (r.retweet_count > 0) :\n",
    "         #  if hasattr(r, 'retweeted_status') :\n",
    "          #     print('retweeted from: ', r.retweeted_status.user.screen_name)\n",
    "           #print('retweet count: ', r.retweet_count)\n",
    "        #print('link: https://twitter.com/', r.user.screen_name, '/status/', r.id, sep = '')\n",
    "        print('location:', r.user.location)\n",
    "        #print('lang:',r.user.lang)\n",
    "print()"
   ]
  },
  {
   "cell_type": "code",
   "execution_count": null,
   "metadata": {},
   "outputs": [],
   "source": [
    "import pickle\n",
    "filename = 'LA_day6_test4.txt'\n",
    "outfile = open(filename,'wb')\n",
    "\n",
    "\n",
    "pickle.dump(results,outfile)\n",
    "outfile.close()"
   ]
  }
 ],
 "metadata": {
  "kernelspec": {
   "display_name": "Python 3",
   "language": "python",
   "name": "python3"
  },
  "language_info": {
   "codemirror_mode": {
    "name": "ipython",
    "version": 3
   },
   "file_extension": ".py",
   "mimetype": "text/x-python",
   "name": "python",
   "nbconvert_exporter": "python",
   "pygments_lexer": "ipython3",
   "version": "3.7.3"
  }
 },
 "nbformat": 4,
 "nbformat_minor": 2
}
