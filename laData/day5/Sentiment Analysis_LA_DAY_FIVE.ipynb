{
 "cells": [
  {
   "cell_type": "markdown",
   "metadata": {},
   "source": [
    "# Sentiment Anaysis Script\n",
    "### How to use:\n",
    "1. Change file names to the ones desired\n",
    "    - Should be of the form 'CITY-ABREVIATION_day#_test#\n",
    "    - Day number should be the same for each file being input\n",
    "    - Test number sould increment by one each time\n",
    "    \n",
    "Todo: Save list for use in synthsising a graph or two"
   ]
  },
  {
   "cell_type": "code",
   "execution_count": 1,
   "metadata": {},
   "outputs": [],
   "source": [
    "from textblob import TextBlob #useing textblob to do sentiment anaysis\n",
    "import csv #use csv to pack it up"
   ]
  },
  {
   "cell_type": "markdown",
   "metadata": {},
   "source": [
    "Do first batch of tweets"
   ]
  },
  {
   "cell_type": "code",
   "execution_count": 2,
   "metadata": {
    "scrolled": true
   },
   "outputs": [],
   "source": [
    "import pickle #to bring in the data\n",
    "\n",
    "filename = 'LA_day5_test1.txt'\n",
    "infile = open(filename,'rb')\n",
    "results = pickle.load(infile)\n",
    "infile.close()\n",
    "\n",
    "#print(results)\n",
    "avgPol = [] #defines where im putting the avgs"
   ]
  },
  {
   "cell_type": "code",
   "execution_count": 3,
   "metadata": {
    "scrolled": true
   },
   "outputs": [
    {
     "name": "stdout",
     "output_type": "stream",
     "text": [
      "Avg Polarity: -0.044444444444444446\n",
      "['-0.044444444444444446']\n"
     ]
    }
   ],
   "source": [
    "polarities = [] #COMMENT HERE WHAT THE TREND WAS\n",
    "\n",
    "for r in results: #makes list of polarities\n",
    "    blob = TextBlob(r.full_text)\n",
    "    polarities.append(blob.sentiment.polarity)\n",
    "    \n",
    "sentimentLogOne = 0 #num for adding total polarities\n",
    "\n",
    "for i in polarities:#avgs polarities\n",
    "    sentimentLogOne = sentimentLogOne + i\n",
    "print(\"Avg Polarity: \" + str(sentimentLogOne/len(polarities)))\n",
    "\n",
    "fields = ['polarities']\n",
    "filename = 'polaritiesTest1.csv'\n",
    "rows = [[x] for x in polarities]\n",
    "with open(filename, 'w') as csvfile:\n",
    "    csvwriter = csv.writer(csvfile) #creating csv writer object   \n",
    "    csvwriter.writerow(fields) #writing fields  \n",
    "    csvwriter.writerows(rows) #writing data\n",
    "\n",
    "avgPol.append(str(sentimentLogOne/len(polarities))) #puts avg in the avg list\n",
    "print(avgPol) #outpits list so I know it works"
   ]
  },
  {
   "cell_type": "markdown",
   "metadata": {},
   "source": [
    "Do second batch of tweets"
   ]
  },
  {
   "cell_type": "code",
   "execution_count": 4,
   "metadata": {},
   "outputs": [],
   "source": [
    "#load in next file\n",
    "filename = 'LA_day5_test2.txt'\n",
    "infile = open(filename,'rb')\n",
    "results2 = pickle.load(infile)\n",
    "infile.close()"
   ]
  },
  {
   "cell_type": "code",
   "execution_count": 5,
   "metadata": {},
   "outputs": [
    {
     "name": "stdout",
     "output_type": "stream",
     "text": [
      "Avg Polarity: 0.13665239663172582\n",
      "['-0.044444444444444446', '0.13665239663172582']\n"
     ]
    }
   ],
   "source": [
    "polarities2 = [] #COMMENT HERE WHAT THE TREND WAS\n",
    "\n",
    "for r in results2: #makes list of polarities\n",
    "    blob2 = TextBlob(r.full_text)\n",
    "    polarities2.append(blob2.sentiment.polarity)\n",
    "    \n",
    "sentimentLogTwo = 0 #num for adding total polarities\n",
    "\n",
    "for i in polarities2: #avgs polarities\n",
    "    sentimentLogTwo = sentimentLogTwo + i\n",
    "print(\"Avg Polarity: \" + str(sentimentLogTwo/len(polarities2)))\n",
    "\n",
    "fields = ['polarities']\n",
    "filename = 'polaritiesTest2.csv'\n",
    "rows = [[x] for x in polarities2]\n",
    "with open(filename, 'w') as csvfile:\n",
    "    csvwriter = csv.writer(csvfile) #creating csv writer object   \n",
    "    csvwriter.writerow(fields) #writing fields  \n",
    "    csvwriter.writerows(rows) #writing data\n",
    "\n",
    "avgPol.append(str(sentimentLogTwo/len(polarities2))) #puts avg in the avg list\n",
    "print(avgPol) #outpits list so I know it works"
   ]
  },
  {
   "cell_type": "markdown",
   "metadata": {},
   "source": [
    "Do third batch of tweets"
   ]
  },
  {
   "cell_type": "code",
   "execution_count": 6,
   "metadata": {},
   "outputs": [],
   "source": [
    "#load in next file\n",
    "filename = 'LA_day5_test3.txt'\n",
    "infile = open(filename,'rb')\n",
    "results3 = pickle.load(infile)\n",
    "infile.close()"
   ]
  },
  {
   "cell_type": "code",
   "execution_count": 7,
   "metadata": {},
   "outputs": [
    {
     "name": "stdout",
     "output_type": "stream",
     "text": [
      "Avg Polarity: 0.13750189574301802\n",
      "['-0.044444444444444446', '0.13665239663172582', '0.13750189574301802']\n"
     ]
    }
   ],
   "source": [
    "polarities3 = [] #COMMENT HERE WHAT THE TREND WAS\n",
    "\n",
    "for r in results3: #makes list of polarities\n",
    "    blob3 = TextBlob(r.full_text)\n",
    "    polarities3.append(blob3.sentiment.polarity)\n",
    "    \n",
    "sentimentLogThree = 0 #num for adding total polarities\n",
    "\n",
    "for i in polarities3: #avgs polarities\n",
    "    sentimentLogThree = sentimentLogThree + i\n",
    "print(\"Avg Polarity: \" + str(sentimentLogThree/len(polarities3)))\n",
    "\n",
    "fields = ['polarities']\n",
    "filename = 'polaritiesTest3.csv'\n",
    "rows = [[x] for x in polarities3]\n",
    "with open(filename, 'w') as csvfile:\n",
    "    csvwriter = csv.writer(csvfile) #creating csv writer object   \n",
    "    csvwriter.writerow(fields) #writing fields  \n",
    "    csvwriter.writerows(rows) #writing data\n",
    "\n",
    "avgPol.append(str(sentimentLogThree/len(polarities3))) #puts avg in the avg list\n",
    "print(avgPol) #outpits list so I know it works"
   ]
  },
  {
   "cell_type": "markdown",
   "metadata": {},
   "source": [
    "Do fourth batch of tweets"
   ]
  },
  {
   "cell_type": "code",
   "execution_count": 8,
   "metadata": {},
   "outputs": [],
   "source": [
    "#load in next file\n",
    "filename = 'LA_day5_test4.txt'\n",
    "infile = open(filename,'rb')\n",
    "results4 = pickle.load(infile)\n",
    "infile.close()"
   ]
  },
  {
   "cell_type": "code",
   "execution_count": 9,
   "metadata": {},
   "outputs": [
    {
     "name": "stdout",
     "output_type": "stream",
     "text": [
      "Avg Polarity: 0.13475075096268424\n",
      "['-0.044444444444444446', '0.13665239663172582', '0.13750189574301802', '0.13475075096268424']\n"
     ]
    }
   ],
   "source": [
    "polarities4 = [] #COMMENT HERE WHAT THE TREND WAS\n",
    "\n",
    "for r in results4: #makes list of polarities\n",
    "    blob4 = TextBlob(r.full_text)\n",
    "    polarities4.append(blob4.sentiment.polarity)\n",
    "    \n",
    "sentimentLogFour = 0 #num for adding total polarities\n",
    "\n",
    "for i in polarities4: #avgs polarities\n",
    "    sentimentLogFour = sentimentLogFour + i\n",
    "print(\"Avg Polarity: \" + str(sentimentLogFour/len(polarities4)))\n",
    "\n",
    "fields = ['polarities']\n",
    "filename = 'polaritiesTest4.csv'\n",
    "rows = [[x] for x in polarities4]\n",
    "with open(filename, 'w') as csvfile:\n",
    "    csvwriter = csv.writer(csvfile) #creating csv writer object   \n",
    "    csvwriter.writerow(fields) #writing fields  \n",
    "    csvwriter.writerows(rows) #writing data\n",
    "\n",
    "\n",
    "avgPol.append(str(sentimentLogFour/len(polarities4))) #puts avg in the avg list\n",
    "print(avgPol) #outpits list so I know it works"
   ]
  },
  {
   "cell_type": "code",
   "execution_count": 10,
   "metadata": {},
   "outputs": [],
   "source": [
    "#This makes a csv for the average polarities (line graph)\n",
    "\n",
    "fields = ['test_num','avg_sentiment_polarity'] #make fields\n",
    "tests = ['t1','t2','t3','t4']\n",
    "rows = [ [x,y] for x,y in zip(tests,avgPol)] #make the rows\n",
    "\n",
    "\n",
    "filename = 'avgPol.csv'\n",
    "with open(filename, 'w') as csvfile:\n",
    "    csvwriter = csv.writer(csvfile) #creating csv writer object   \n",
    "    csvwriter.writerow(fields) #writing fields  \n",
    "    csvwriter.writerows(rows) #writing data"
   ]
  }
 ],
 "metadata": {
  "kernelspec": {
   "display_name": "Python 3",
   "language": "python",
   "name": "python3"
  },
  "language_info": {
   "codemirror_mode": {
    "name": "ipython",
    "version": 3
   },
   "file_extension": ".py",
   "mimetype": "text/x-python",
   "name": "python",
   "nbconvert_exporter": "python",
   "pygments_lexer": "ipython3",
   "version": "3.7.3"
  }
 },
 "nbformat": 4,
 "nbformat_minor": 2
}
